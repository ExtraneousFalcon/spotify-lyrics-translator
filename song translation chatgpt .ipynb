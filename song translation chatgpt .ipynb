{
 "cells": [
  {
   "cell_type": "code",
   "execution_count": 1,
   "id": "dea1d809",
   "metadata": {},
   "outputs": [],
   "source": [
    "import os\n",
    "os.environ['SPOTIFY_USERNAME'] = ''\n",
    "os.environ['SPOTIFY_PASSWORD'] = ''\n",
    "os.environ[\"OPENAI_API_KEY\"] = \"\""
   ]
  },
  {
   "cell_type": "code",
   "execution_count": 87,
   "id": "7b052af7",
   "metadata": {},
   "outputs": [
    {
     "name": "stdout",
     "output_type": "stream",
     "text": [
      "Text content without HTML tags: Lyrics멈춘 시간 속 잠든 너를 찾아가아무리 막아도 결국 너의 곁인 걸길고 긴 여행을 끝내 이젠 돌아가너라는 집으로 지금 다시 way back home♪아무리 힘껏 닫아도 다시 열린 서랍 같아하늘로 높이 날린 넌 자꾸 내게 되돌아와힘들게 삼킨 이별도 다 그대로인 걸 oh, oh, oh수없이 떠난 길 위에서 난 너를 발견하고비우려 했던 맘은 또 이렇게 너로 차올라발걸음의 끝에 늘 니가 부딪혀그만 그만멈춘 시간 속 잠든 너를 찾아가아무리 막아도 결국 너의 곁인 걸길고 긴 여행을 끝내 이젠 돌아가너라는 집으로 지금 다시 way back home♪조용히 잠든 방을 열어 기억을 꺼내 들어부서진 시간 위에서 선명히 너는 떠올라길 잃은 맘 속에 널 가둔 채 살아그만 그만멈춘 시간 속 잠든 너를 찾아가아무리 막아도 결국 너의 곁인 걸길고 긴 여행을 끝내 이젠 돌아가너라는 집으로 지금 다시 way back home세상을 뒤집어 찾으려 해오직 너로 완결된 이야기를모든 걸 잃어도 난 너 하나면 돼♪빛이 다 꺼진 여기 나를 안아줘♪눈을 감으면 소리 없이 밀려와이 마음 그 위로 넌 또 한 겹 쌓여가내겐 그 누구도 아닌 니가 필요해돌아와 내 곁에 그날까지 I'm not done\n"
     ]
    }
   ],
   "source": [
    "from selenium import webdriver\n",
    "from selenium.webdriver.common.by import By\n",
    "from bs4 import BeautifulSoup\n",
    "\n",
    "# Create a new instance of Chrome WebDriver\n",
    "# Make sure you have downloaded the appropriate chromedriver executable\n",
    "# and it's in the same directory as your script, or provide its path.\n",
    "driver = webdriver.Edge()\n",
    "song_name = 'way back home shaun'\n",
    "\n",
    "\n",
    "# Navigate to a website\n",
    "driver.get(\"https://open.spotify.com/\")\n",
    "\n",
    "# Perform actions, such as filling forms or clicking buttons\n",
    "# Example:\n",
    "# search_box = driver.find_element_by_name(\"q\")\n",
    "# search_box.send_keys(\"Selenium automation\")\n",
    "# search_box.submit()\n",
    "\n",
    "# Wait for a few seconds to see the result\n",
    "driver.implicitly_wait(10)\n",
    "\n",
    "# Find the element by link text\n",
    "login_button = driver.find_element(By.XPATH, \"//*[text()='Log in']\")\n",
    "\n",
    "# Click the login button\n",
    "login_button.click()\n",
    "\n",
    "\n",
    "# Find the input element by its id\n",
    "input_element = driver.find_element(By.ID, \"login-username\")\n",
    "\n",
    "# Enter text into the input field\n",
    "input_element.send_keys(os.environ.get(\"SPOTIFY_USERNAME\"))\n",
    "\n",
    "input_element = driver.find_element(By.ID, \"login-password\")\n",
    "\n",
    "# Enter text into the input field\n",
    "input_element.send_keys(os.environ.get(\"SPOTIFY_PASSWORD\"))\n",
    "\n",
    "# Find the element by link text\n",
    "login_button = driver.find_element(By.XPATH, \"//*[text()='Log In']\")\n",
    "\n",
    "# Click the login button\n",
    "login_button.click()\n",
    "\n",
    "\n",
    "# Find the element by link text\n",
    "search_button = driver.find_element(By.XPATH, \"//*[text()='Search']\")\n",
    "\n",
    "# Click the login button\n",
    "search_button.click()\n",
    "\n",
    "\n",
    "placeholder_text = \"What do you want to listen to?\"\n",
    "input_element = driver.find_element(By.CSS_SELECTOR, f'input[placeholder=\"{placeholder_text}\"]')\n",
    "\n",
    "# Type keys into the input field\n",
    "input_element.send_keys(song_name)\n",
    "\n",
    "\n",
    "div_element = driver.find_element(By.XPATH, '//div[@data-testid=\"top-result-card\"]')\n",
    "div_element.click()\n",
    "\n",
    "\n",
    "div_element = driver.find_element(By.CLASS_NAME, \"EaTxqhHk6J4ecKHwpY5m\")\n",
    "\n",
    "inner_html = div_element.get_attribute(\"innerHTML\")\n",
    "\n",
    "# Parse the inner HTML content using BeautifulSoup\n",
    "soup = BeautifulSoup(inner_html, \"html.parser\")\n",
    "\n",
    "# Extract the text content without HTML tags\n",
    "text_content = soup.get_text()\n",
    "\n",
    "print(\"Text content without HTML tags:\", text_content)\n",
    "\n",
    "full_lyrics = text_content"
   ]
  },
  {
   "cell_type": "code",
   "execution_count": 88,
   "id": "299af3d8",
   "metadata": {},
   "outputs": [
    {
     "name": "stdout",
     "output_type": "stream",
     "text": [
      "you are a translator that translates songs to English. please display the lyrics and their translations side by side. here's the lyrics: Lyrics멈춘 시간 속 잠든 너를 찾아가아무리 막아도 결국 너의 곁인 걸길고 긴 여행을 끝내 이젠 돌아가너라는 집으로 지금 다시 way back home♪아무리 힘껏 닫아도 다시 열린 서랍 같아하늘로 높이 날린 넌 자꾸 내게 되돌아와힘들게 삼킨 이별도 다 그대로인 걸 oh, oh, oh수없이 떠난 길 위에서 난 너를 발견하고비우려 했던 맘은 또 이렇게 너로 차올라발걸음의 끝에 늘 니가 부딪혀그만 그만멈춘 시간 속 잠든 너를 찾아가아무리 막아도 결국 너의 곁인 걸길고 긴 여행을 끝내 이젠 돌아가너라는 집으로 지금 다시 way back home♪조용히 잠든 방을 열어 기억을 꺼내 들어부서진 시간 위에서 선명히 너는 떠올라길 잃은 맘 속에 널 가둔 채 살아그만 그만멈춘 시간 속 잠든 너를 찾아가아무리 막아도 결국 너의 곁인 걸길고 긴 여행을 끝내 이젠 돌아가너라는 집으로 지금 다시 way back home세상을 뒤집어 찾으려 해오직 너로 완결된 이야기를모든 걸 잃어도 난 너 하나면 돼♪빛이 다 꺼진 여기 나를 안아줘♪눈을 감으면 소리 없이 밀려와이 마음 그 위로 넌 또 한 겹 쌓여가내겐 그 누구도 아닌 니가 필요해돌아와 내 곁에 그날까지 I'm not done make sure you display the input lyrics and translation line by line.\n"
     ]
    }
   ],
   "source": [
    "from langchain.prompts import PromptTemplate\n",
    "\n",
    "prompt = PromptTemplate(\n",
    "    input_variables=[\"lyrics\"],\n",
    "    template=\"you are a translator that translates songs to English. please display the lyrics and their translations side by side. here's the lyrics: {lyrics} make sure you display the input lyrics and translation line by line.\")\n",
    "\n",
    "print(prompt.format(lyrics=full_lyrics))"
   ]
  },
  {
   "cell_type": "code",
   "execution_count": 89,
   "id": "43b3fdad",
   "metadata": {},
   "outputs": [
    {
     "name": "stdout",
     "output_type": "stream",
     "text": [
      "1\n",
      "[\"Lyrics멈춘 시간 속 잠든 너를 찾아가아무리 막아도 결국 너의 곁인 걸길고 긴 여행을 끝내 이젠 돌아가너라는 집으로 지금 다시 way back home♪아무리 힘껏 닫아도 다시 열린 서랍 같아하늘로 높이 날린 넌 자꾸 내게 되돌아와힘들게 삼킨 이별도 다 그대로인 걸 oh, oh, oh수없이 떠난 길 위에서 난 너를 발견하고비우려 했던 맘은 또 이렇게 너로 차올라발걸음의 끝에 늘 니가 부딪혀그만 그만멈춘 시간 속 잠든 너를 찾아가아무리 막아도 결국 너의 곁인 걸길고 긴 여행을 끝내 이젠 돌아가너라는 집으로 지금 다시 way back home♪조용히 잠든 방을 열어 기억을 꺼내 들어부서진 시간 위에서 선명히 너는 떠올라길 잃은 맘 속에 널 가둔 채 살아그만 그만멈춘 시간 속 잠든 너를 찾아가아무리 막아도 결국 너의 곁인 걸길고 긴 여행을 끝내 이젠 돌아가너라는 집으로 지금 다시 way back home세상을 뒤집어 찾으려 해오직 너로 완결된 이야기를모든 걸 잃어도 난 너 하나면 돼♪빛이 다 꺼진 여기 나를 안아줘♪눈을 감으면 소리 없이 밀려와이 마음 그 위로 넌 또 한 겹 쌓여가내겐 그 누구도 아닌 니가 필요해돌아와 내 곁에 그날까지 I'm not done\"]\n"
     ]
    }
   ],
   "source": [
    "import tiktoken\n",
    "\n",
    "encoding = tiktoken.encoding_for_model(\"gpt-3.5-turbo\")\n",
    "\n",
    "token_count = len(encoding.encode(full_lyrics))\n",
    "token_per_req = 1000\n",
    "num_chunks = (token_count + token_per_req-1) // token_per_req \n",
    "lyric_chunks = []\n",
    "for i in range(num_chunks):\n",
    "    startindex = i*len(full_lyrics) // num_chunks\n",
    "    endindex = (i+1)*len(full_lyrics) // num_chunks\n",
    "    lyric_chunks.append(full_lyrics[startindex:endindex])\n",
    "print(len(lyric_chunks))\n",
    "print(lyric_chunks)"
   ]
  },
  {
   "cell_type": "code",
   "execution_count": 90,
   "id": "8dd45f89",
   "metadata": {},
   "outputs": [
    {
     "name": "stdout",
     "output_type": "stream",
     "text": [
      "Lyrics:\n",
      "멈춘 시간 속 잠든 너를 찾아가\n",
      "아무리 막아도 결국 너의 곁인 걸\n",
      "길고 긴 여행을 끝내 이젠 돌아가\n",
      "너라는 집으로 지금 다시 way back home♪\n",
      "\n",
      "Translation:\n",
      "I search for you who are asleep in the stopped time\n",
      "No matter how much I try to stop it, in the end, it's by your side\n",
      "Ending the long journey, now I go back\n",
      "To the home called you, now again, way back home♪\n",
      "\n",
      "Lyrics:\n",
      "아무리 힘껏 닫아도 다시 열린 서랍 같아\n",
      "하늘로 높이 날린 넌 자꾸 내게 되돌아와\n",
      "힘들게 삼킨 이별도 다 그대로인 걸 oh, oh, oh\n",
      "수없이 떠난 길 위에서 난 너를 발견하고\n",
      "\n",
      "Translation:\n",
      "No matter how hard I close it, it opens again like a drawer\n",
      "You, who flew high into the sky, keep coming back to me\n",
      "Even the difficult swallowed farewell is still the same, oh, oh, oh\n",
      "On the countless paths I've traveled, I found you\n",
      "\n",
      "Lyrics:\n",
      "비우려 했던 맘은 또 이렇게 너로 차올라\n",
      "발걸음의 끝에 늘 니가 부딪혀\n",
      "그만 그만\n",
      "\n",
      "Translation:\n",
      "The heart that I tried to empty is filled up with you again\n",
      "At the end of my steps, I always collide with you\n",
      "Stop, stop\n",
      "\n",
      "Lyrics:\n",
      "조용히 잠든 방을 열어 기억을 꺼내 들어\n",
      "부서진 시간 위에서 선명히 너는 떠올라\n",
      "길 잃은 맘 속에 널 가둔 채 살아\n",
      "그만 그만\n",
      "\n",
      "Translation:\n",
      "Quietly, I open the room where memories sleep\n",
      "You vividly come to mind above the broken time\n",
      "Living with you trapped in my lost heart\n",
      "Stop, stop\n",
      "\n",
      "Lyrics:\n",
      "세상을 뒤집어 찾으려 해\n",
      "오직 너로 완결된 이야기를\n",
      "모든 걸 잃어도 난 너 하나면 돼♪\n",
      "\n",
      "Translation:\n",
      "I try to overturn the world to find\n",
      "A story that is only complete with you\n",
      "Even if I lose everything, I only need you♪\n",
      "\n",
      "Lyrics:\n",
      "빛이 다 꺼진 여기 나를 안아줘♪\n",
      "눈을 감으면 소리 없이 밀려와\n",
      "이 마음 그 위로 넌 또 한 겹 쌓여가\n",
      "내겐 그 누구도 아닌 니가 필요해\n",
      "돌아와 내 곁에 그날까지 I'm not done\n",
      "\n",
      "Translation:\n",
      "Embrace me here where all the lights have gone out♪\n",
      "When I close my eyes, it silently rushes in\n",
      "You keep piling up on top of this heart\n",
      "I need you, who is no one else to me\n",
      "Come back to my side until that day, I'm not done\n"
     ]
    }
   ],
   "source": [
    "from langchain.llms import OpenAI\n",
    "from langchain.chains import LLMChain\n",
    "\n",
    "\n",
    "llm = OpenAI(\n",
    "          model_name=\"gpt-3.5-turbo\", # default model\n",
    "        temperature=0,\n",
    "          max_tokens=4096-token_per_req) #temperature dictates how whacky the output should be\n",
    "output = \"\"\n",
    "llmchain = LLMChain(llm=llm, prompt=prompt)\n",
    "for lyric_chunk in lyric_chunks:\n",
    "    output += llmchain.run({'lyrics':lyric_chunk})\n",
    "print(output)"
   ]
  },
  {
   "cell_type": "code",
   "execution_count": 91,
   "id": "db365a0f",
   "metadata": {},
   "outputs": [],
   "source": [
    "\n",
    "div_element = driver.find_element(By.CLASS_NAME, \"EaTxqhHk6J4ecKHwpY5m\")\n",
    "\n",
    "# Execute JavaScript to remove all child elements of the div\n",
    "driver.execute_script(\"arguments[0].innerHTML = '';\", div_element)\n",
    "\n",
    "\n",
    "driver.execute_script(\"arguments[0].innerText = arguments[1];\", div_element, output)\n",
    "\n",
    "button_element = driver.find_element(By.XPATH, '(//button[@data-testid=\"play-button\"])[2]')\n",
    "\n",
    "\n",
    "# Click the button\n",
    "button_element.click()\n"
   ]
  },
  {
   "cell_type": "code",
   "execution_count": null,
   "id": "e90342ae",
   "metadata": {},
   "outputs": [],
   "source": []
  }
 ],
 "metadata": {
  "kernelspec": {
   "display_name": "Python 3 (ipykernel)",
   "language": "python",
   "name": "python3"
  },
  "language_info": {
   "codemirror_mode": {
    "name": "ipython",
    "version": 3
   },
   "file_extension": ".py",
   "mimetype": "text/x-python",
   "name": "python",
   "nbconvert_exporter": "python",
   "pygments_lexer": "ipython3",
   "version": "3.9.6"
  }
 },
 "nbformat": 4,
 "nbformat_minor": 5
}
